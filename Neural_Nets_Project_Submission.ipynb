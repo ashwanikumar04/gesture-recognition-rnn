{
 "cells": [
  {
   "cell_type": "markdown",
   "metadata": {},
   "source": [
    "# Gesture Recognition\n",
    "In this group project, you are going to build a 3D Conv model that will be able to predict the 5 gestures correctly. Please import the following libraries to get started."
   ]
  },
  {
   "cell_type": "code",
   "execution_count": null,
   "metadata": {},
   "outputs": [],
   "source": [
    "# Run this when running on Mac OS.\n",
    "from sys import platform\n",
    "if platform == \"darwin\":\n",
    "    os.environ['KMP_DUPLICATE_LIB_OK'] = 'True'"
   ]
  },
  {
   "cell_type": "code",
   "execution_count": null,
   "metadata": {},
   "outputs": [],
   "source": [
    "import warnings\n",
    "warnings.filterwarnings('ignore')"
   ]
  },
  {
   "cell_type": "code",
   "execution_count": null,
   "metadata": {},
   "outputs": [],
   "source": [
    "import numpy as np\n",
    "import os\n",
    "import skimage\n",
    "from skimage import transform\n",
    "import datetime\n",
    "import os\n",
    "import cv2"
   ]
  },
  {
   "cell_type": "markdown",
   "metadata": {},
   "source": [
    "We set the random seed so that the results don't vary drastically."
   ]
  },
  {
   "cell_type": "code",
   "execution_count": null,
   "metadata": {},
   "outputs": [],
   "source": [
    "import seaborn as sns\n",
    "from matplotlib import pyplot as plt\n",
    "import tensorflow as tf\n",
    "from keras import backend as K\n",
    "import random as rn\n",
    "np.random.seed(30)\n",
    "rn.seed(30)\n",
    "tf.set_random_seed(30)\n",
    "%matplotlib inline\n",
    "\n",
    "\n",
    "# setting display format so that large values are shown properly\n",
    "pd.set_option('display.float_format', lambda x: '%.4f' % x)\n",
    "\n",
    "sns.set_style(style='dark')\n",
    "sns.set_context(\"notebook\")\n",
    "\n",
    "%config InlineBackend.figure_format = 'retina'\n",
    "%matplotlib inline"
   ]
  },
  {
   "cell_type": "markdown",
   "metadata": {},
   "source": [
    "In this block, you read the folder names for training and validation. You also set the `batch_size` here. Note that you set the batch size in such a way that you are able to use the GPU in full capacity. You keep increasing the batch size until the machine throws an error."
   ]
  },
  {
   "cell_type": "code",
   "execution_count": null,
   "metadata": {},
   "outputs": [],
   "source": [
    "base_path = 'Project_data/'"
   ]
  },
  {
   "cell_type": "code",
   "execution_count": null,
   "metadata": {},
   "outputs": [],
   "source": [
    "train_doc = np.random.permutation(open(base_path+'train.csv').readlines())\n",
    "val_doc = np.random.permutation(open(base_path + 'val.csv').readlines())"
   ]
  },
  {
   "cell_type": "code",
   "execution_count": null,
   "metadata": {},
   "outputs": [],
   "source": [
    "def get_image(folder, index):\n",
    "    image_name = os.listdir(folder)[index]\n",
    "    image = skimage.io.imread(folder + \"/\" + image_name).astype(np.float32)\n",
    "    return image"
   ]
  },
  {
   "cell_type": "code",
   "execution_count": null,
   "metadata": {},
   "outputs": [],
   "source": [
    "def resize_image(image,image_shape):\n",
    "    return cv2.resize(image, image_shape, interpolation = cv2.INTER_AREA)"
   ]
  },
  {
   "cell_type": "code",
   "execution_count": null,
   "metadata": {},
   "outputs": [],
   "source": [
    "def crop(image):\n",
    "    return image[0:120, 20:140]"
   ]
  },
  {
   "cell_type": "code",
   "execution_count": null,
   "metadata": {},
   "outputs": [],
   "source": [
    "def modify_image(image, image_shape):\n",
    "    if (image.shape[0] == image.shape[1]):\n",
    "        return resize_image(image, image_shape)\n",
    "    else:\n",
    "        return resize_image(crop(image), image_shape)"
   ]
  },
  {
   "cell_type": "code",
   "execution_count": null,
   "metadata": {},
   "outputs": [],
   "source": [
    "train_path = base_path + 'train'\n",
    "val_path = base_path + 'val'"
   ]
  },
  {
   "cell_type": "markdown",
   "metadata": {},
   "source": [
    "## Generator\n",
    "This is one of the most important part of the code. The overall structure of the generator has been given. In the generator, you are going to preprocess the images as you have images of 2 different dimensions as well as create a batch of video frames. You have to experiment with `img_idx`, `y`,`z` and normalization such that you get high accuracy."
   ]
  },
  {
   "cell_type": "code",
   "execution_count": null,
   "metadata": {},
   "outputs": [],
   "source": [
    "random.seed(30)\n",
    "\n",
    "\n",
    "def get_batch_data(t, source_path, batch, batch_size, number_of_folders,\n",
    "                   img_idx, image_shape):\n",
    "    batch_data = np.zeros(\n",
    "        (number_of_folders, len(img_idx), image_shape[0], image_shape[1], 3))\n",
    "    # batch_labels is the one hot representation of the output\n",
    "    batch_labels = np.zeros((number_of_folders, 5))\n",
    "    for folder in range(number_of_folders):  # iterate over the batch_size\n",
    "        # read all the images in the folder\n",
    "        imgs = os.listdir(source_path + '/' +\n",
    "                          t[folder + (batch * batch_size)].split(';')[0])\n",
    "        # Iterate over the frames/images of a folder to read them in\n",
    "        for idx, item in enumerate(img_idx):\n",
    "            image = get_image(\n",
    "                source_path + '/' +\n",
    "                t[folder + (batch * batch_size)].strip().split(';')[0], item)\n",
    "\n",
    "            # Here, we are croping and resizing the image based on its dimensions\n",
    "            image = modify_image(image, image_shape)\n",
    "            # normalize image\n",
    "            image = image / 255\n",
    "            # crop the images and resize them. Note that the images are of 2 different shape\n",
    "            # and the conv3D will throw error if the inputs in a batch have different shapes\n",
    "            # normalise and feed in the image\n",
    "            batch_data[folder, idx, :, :, 0] = image[:, :, 0]\n",
    "            # normalise and feed in the image\n",
    "            batch_data[folder, idx, :, :, 1] = image[:, :, 1]\n",
    "            # normalise and feed in the image\n",
    "            batch_data[folder, idx, :, :, 2] = image[:, :, 2]\n",
    "        current_class = int(t[folder +\n",
    "                              (batch * batch_size)].strip().split(';')[2])\n",
    "        batch_labels[folder, current_class] = 1\n",
    "    return batch_data, batch_labels"
   ]
  },
  {
   "cell_type": "code",
   "execution_count": null,
   "metadata": {},
   "outputs": [],
   "source": [
    "def generator(source_path,\n",
    "              folder_list,\n",
    "              batch_size,\n",
    "              list_of_frames,\n",
    "              image_shape):\n",
    "    print('Source path = ', source_path, '; batch size =', batch_size)\n",
    "    # create a list of image numbers you want to use for a particular video\n",
    "    img_idx = list_of_frames\n",
    "    while True:\n",
    "        t = np.random.permutation(folder_list)\n",
    "        num_batches = len(t) // batch_size  # calculate the number of batches\n",
    "        for batch in range(\n",
    "                num_batches):  # we iterate over the number of batches\n",
    "            yield get_batch_data(t, source_path, batch, batch_size, batch_size,\n",
    "                                 img_idx, image_shape)\n",
    "\n",
    "        remaining_folder = len(t) % batch_size\n",
    "        if remaining_folder > 0:\n",
    "            yield get_batch_data(t, source_path, num_batches, batch_size,\n",
    "                                 remaining_folder, img_idx, image_shape)\n"
   ]
  },
  {
   "cell_type": "markdown",
   "metadata": {},
   "source": [
    "Note here that a video is represented above in the generator as (number of images, height, width, number of channels). Take this into consideration while creating the model architecture."
   ]
  },
  {
   "cell_type": "markdown",
   "metadata": {},
   "source": [
    "## Parameters"
   ]
  },
  {
   "cell_type": "code",
   "execution_count": null,
   "metadata": {},
   "outputs": [],
   "source": [
    "curr_dt_time = datetime.datetime.now()\n",
    "num_train_sequences = len(train_doc)\n",
    "print('# training sequences =', num_train_sequences)\n",
    "num_val_sequences = len(val_doc)\n",
    "print('# validation sequences =', num_val_sequences)\n",
    "num_epochs = 30\n",
    "print('# epochs =', num_epochs)\n",
    "batch_size = 20\n",
    "print('# batch size =', batch_size)\n",
    "learning_rate = 0.001\n",
    "print('learnig rate =', learning_rate)\n",
    "image_shape = (120, 120)\n",
    "print('image shape =', image_shape)\n",
    "list_of_frames = []\n",
    "print('list of frames =', list_of_frames)"
   ]
  },
  {
   "cell_type": "code",
   "execution_count": null,
   "metadata": {},
   "outputs": [],
   "source": []
  },
  {
   "cell_type": "markdown",
   "metadata": {},
   "source": [
    "## Model\n",
    "Here you make the model using different functionalities that Keras provides. Remember to use `Conv3D` and `MaxPooling3D` and not `Conv2D` and `Maxpooling2D` for a 3D convolution model. You would want to use `TimeDistributed` while building a Conv2D + RNN model. Also remember that the last layer is the softmax. Design the network in such a way that the model is able to give good accuracy on the least number of parameters so that it can fit in the memory of the webcam."
   ]
  },
  {
   "cell_type": "code",
   "execution_count": null,
   "metadata": {},
   "outputs": [],
   "source": [
    "from keras.models import Sequential, Model\n",
    "from keras.layers import Dense, GRU, Flatten, TimeDistributed, Flatten, BatchNormalization, Activation\n",
    "from keras.layers.convolutional import Conv3D, MaxPooling3D\n",
    "from keras.callbacks import ModelCheckpoint, ReduceLROnPlateau\n",
    "from keras import optimizers\n",
    "\n",
    "#write your model here"
   ]
  },
  {
   "cell_type": "markdown",
   "metadata": {},
   "source": [
    "Now that you have written the model, the next step is to `compile` the model. When you print the `summary` of the model, you'll see the total number of parameters you have to train."
   ]
  },
  {
   "cell_type": "code",
   "execution_count": null,
   "metadata": {
    "scrolled": true
   },
   "outputs": [],
   "source": [
    "optimiser = optimizers.SGD(lr=learning_rate)\n",
    "model.compile(optimizer=optimiser,\n",
    "              loss='categorical_crossentropy',\n",
    "              metrics=['categorical_accuracy'])\n",
    "print(model.summary())"
   ]
  },
  {
   "cell_type": "markdown",
   "metadata": {},
   "source": [
    "Let us create the `train_generator` and the `val_generator` which will be used in `.fit_generator`."
   ]
  },
  {
   "cell_type": "code",
   "execution_count": null,
   "metadata": {},
   "outputs": [],
   "source": [
    "train_generator = generator(train_path, train_doc, batch_size, list_of_frames,\n",
    "                            image_shape)\n",
    "val_generator = generator(val_path, val_doc, batch_size, list_of_frames,\n",
    "                          image_shape)"
   ]
  },
  {
   "cell_type": "code",
   "execution_count": null,
   "metadata": {},
   "outputs": [],
   "source": [
    "model_name = 'model_init' + '_' + \\\n",
    "    str(curr_dt_time).replace(' ', '').replace(':', '_') + '/'\n",
    "\n",
    "if not os.path.exists(model_name):\n",
    "    os.mkdir(model_name)\n",
    "\n",
    "filepath = model_name + \\\n",
    "    'model-{epoch:05d}-{loss:.5f}-{categorical_accuracy:.5f}-{val_loss:.5f}-{val_categorical_accuracy:.5f}.h5'\n",
    "\n",
    "checkpoint = ModelCheckpoint(filepath,\n",
    "                             monitor='val_loss',\n",
    "                             verbose=1,\n",
    "                             save_best_only=False,\n",
    "                             save_weights_only=False,\n",
    "                             mode='auto',\n",
    "                             period=1)\n",
    "\n",
    "LR = ReduceLROnPlateau(monitor='val_loss', factor=0.5, patience=2,\n",
    "                       verbose=1)  # write the REducelronplateau code here\n",
    "es = EarlyStopping(monitor='val_loss', mode='min', verbose=1, patience=8)\n",
    "callbacks_list = [checkpoint, LR, es]"
   ]
  },
  {
   "cell_type": "markdown",
   "metadata": {},
   "source": [
    "The `steps_per_epoch` and `validation_steps` are used by `fit_generator` to decide the number of next() calls it need to make."
   ]
  },
  {
   "cell_type": "code",
   "execution_count": null,
   "metadata": {},
   "outputs": [],
   "source": [
    "if (num_train_sequences % batch_size) == 0:\n",
    "    steps_per_epoch = int(num_train_sequences / batch_size)\n",
    "else:\n",
    "    steps_per_epoch = (num_train_sequences // batch_size) + 1\n",
    "\n",
    "if (num_val_sequences % batch_size) == 0:\n",
    "    validation_steps = int(num_val_sequences / batch_size)\n",
    "else:\n",
    "    validation_steps = (num_val_sequences // batch_size) + 1"
   ]
  },
  {
   "cell_type": "markdown",
   "metadata": {},
   "source": [
    "Let us now fit the model. This will start training the model and with the help of the checkpoints, you'll be able to save the model at the end of each epoch."
   ]
  },
  {
   "cell_type": "code",
   "execution_count": null,
   "metadata": {},
   "outputs": [],
   "source": [
    "model.fit_generator(train_generator,\n",
    "                    steps_per_epoch=steps_per_epoch,\n",
    "                    epochs=num_epochs,\n",
    "                    verbose=1,\n",
    "                    callbacks=callbacks_list,\n",
    "                    validation_data=val_generator,\n",
    "                    validation_steps=validation_steps,\n",
    "                    class_weight=None,\n",
    "                    workers=1,\n",
    "                    initial_epoch=0)\n",
    "\n",
    "fig = plt.figure(figsize=(10, 8))\n",
    "plt.plot(history.history['loss'],\n",
    "         label='Categorical crossentropy (training data)')\n",
    "plt.plot(history.history['val_loss'],\n",
    "         label='Categorical crossentropy (validation data)')\n",
    "plt.plot(history.history['categorical_accuracy'],\n",
    "         label='Accuracy (training data)')\n",
    "plt.plot(history.history['val_categorical_accuracy'],\n",
    "         label='Accuracy (validation data)')\n",
    "\n",
    "plt.title('Model performance')\n",
    "plt.ylabel('Loss value')\n",
    "plt.xlabel('No. epoch')\n",
    "plt.legend(loc=\"upper left\")\n",
    "plt.show()"
   ]
  },
  {
   "cell_type": "code",
   "execution_count": null,
   "metadata": {},
   "outputs": [],
   "source": []
  }
 ],
 "metadata": {
  "kernelspec": {
   "display_name": "Python 3",
   "language": "python",
   "name": "python3"
  },
  "language_info": {
   "codemirror_mode": {
    "name": "ipython",
    "version": 3
   },
   "file_extension": ".py",
   "mimetype": "text/x-python",
   "name": "python",
   "nbconvert_exporter": "python",
   "pygments_lexer": "ipython3",
   "version": "3.7.4"
  }
 },
 "nbformat": 4,
 "nbformat_minor": 2
}
